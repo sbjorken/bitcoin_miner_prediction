{
 "cells": [
  {
   "cell_type": "markdown",
   "metadata": {},
   "source": [
    "# Bitcoin miner prediction"
   ]
  },
  {
   "cell_type": "markdown",
   "metadata": {},
   "source": [
    "## 1. Imports"
   ]
  },
  {
   "cell_type": "code",
   "execution_count": 1,
   "metadata": {},
   "outputs": [],
   "source": [
    "%matplotlib inline\n",
    "\n",
    "import matplotlib.pyplot as plt\n",
    "import numpy as np\n",
    "import pandas as pd\n",
    "import datetime as dt\n",
    "import seaborn as sns\n",
    "import os\n",
    "\n",
    "from google.cloud import bigquery\n",
    "from bq_helper import BigQueryHelper\n",
    "\n",
    "from sklearn.model_selection import train_test_split\n",
    "from sklearn.compose import ColumnTransformer\n",
    "from sklearn.preprocessing import StandardScaler, MinMaxScaler\n",
    "from sklearn.pipeline import Pipeline\n",
    "from sklearn.ensemble import RandomForestClassifier, GradientBoostingClassifier\n",
    "from sklearn.model_selection import GridSearchCV\n",
    "from sklearn.metrics import roc_auc_score, roc_curve, plot_confusion_matrix, precision_recall_curve"
   ]
  },
  {
   "cell_type": "markdown",
   "metadata": {},
   "source": [
    "## 2. Set up Google Cloud API"
   ]
  },
  {
   "cell_type": "markdown",
   "metadata": {},
   "source": [
    "There are some additional requirements needed in addition to the below such as the creation of a Google Cloud service account. More information available here: https://cloud.google.com/docs/authentication/getting-started"
   ]
  },
  {
   "cell_type": "code",
   "execution_count": 2,
   "metadata": {},
   "outputs": [],
   "source": [
    "os.environ['GOOGLE_APPLICATION_CREDENTIALS'] = '<bigquery-project>.json'"
   ]
  },
  {
   "cell_type": "markdown",
   "metadata": {},
   "source": [
    "## 3. Import Bitcoin blockchain data"
   ]
  },
  {
   "cell_type": "markdown",
   "metadata": {},
   "source": [
    "__Select amount of data to load. Due to limitations on resource usage, selection here is only a subset of the total blockchain data in BigQuery (as defined in the two variables miner_addresses and non_miner_addresses). These will be the classes in our binary classification algorithms.__\n",
    "\n",
    "BigQuery tables are available on the Google Cloud Platform:\n",
    "https://cloud.google.com/blog/products/gcp/bitcoin-in-bigquery-blockchain-analytics-on-public-data"
   ]
  },
  {
   "cell_type": "markdown",
   "metadata": {},
   "source": [
    "##### A summary of the logic of the SQL query:\n",
    "\n",
    "_1. Create two temporary tables for the outputs and inputs:_\n",
    "- Retrieve the transaction outputs from the _transactions_ table\n",
    "- Transform the stored array of structs to a concatenation of strings (using UNNEST and ARRAY_TO_STRING)\n",
    "- Select various calculated values using the address field as unique identifier and group by the address\n",
    "\n",
    "_2. Select all transactions belonging to a miner address:_\n",
    "- Retrieve the coinbase parameters for the largest mining pools as string values and convert each one to hexadecimal\n",
    "- Join output and input values from the two temporary tables on address field (the same address can be used both as input and output in every transaction)\n",
    "- Join the output from above with the _blocks_ table on the block hash field (each transaction contains the hash of the block in which it was mined)\n",
    "- Apply a filter to include only coinbase transactions with a signature equal to one of the mining pools\n",
    "- Group the selection by miner (i.e. by the address field)\n",
    "\n",
    "_3. Select all transactions __not__ belonging to a miner address:_\n",
    "- Repeat steps above by flipping the criteria that the signature should be equal to one of the mining pools\n",
    "\n",
    "_4. Merge the two selections:_\n",
    "- Apply UNION ALL to combine the result-sets of the two select statements"
   ]
  },
  {
   "cell_type": "code",
   "execution_count": 3,
   "metadata": {},
   "outputs": [],
   "source": [
    "non_miner_addresses = 25000\n",
    "miner_addresses = 5000"
   ]
  },
  {
   "cell_type": "code",
   "execution_count": 4,
   "metadata": {},
   "outputs": [],
   "source": [
    "sql = '''\n",
    "WITH\n",
    "outputs AS (\n",
    "  SELECT\n",
    "    ARRAY_TO_STRING(outputs.addresses,',') AS output_address,\n",
    "    MIN(t.block_timestamp_month) AS output_month_min,\n",
    "    MAX(t.block_timestamp_month) AS output_month_max,\n",
    "    COUNT(DISTINCT t.block_timestamp_month) AS output_active_months, -- number of active months\n",
    "    COUNT(t.outputs) AS output_count, -- amount of outputs from the address\n",
    "    SUM(outputs.value) AS output_value_sum, -- sum of the value of all outputs from the address\n",
    "    AVG(outputs.value) AS output_value_avg, -- mean value of all outputs from the address\n",
    "    COUNT(DISTINCT(`hash`)) AS output_tx_count,  -- amount of output transactions from the address\n",
    "    -- AVG(t.size) AS output_size_avg, -- average size of all outputs from the address\n",
    "    -- SUM(t.fee) AS output_tx_fee_sum,\n",
    "    -- AVG(t.fee) AS output_tx_fee_avg\n",
    "  FROM `bigquery-public-data.crypto_bitcoin.transactions` AS t, UNNEST(outputs) AS outputs\n",
    "  GROUP BY output_address\n",
    ")\n",
    ",inputs AS (\n",
    "  SELECT\n",
    "    ARRAY_TO_STRING(inputs.addresses,',') AS input_address,\n",
    "    MIN(t.block_timestamp_month) AS input_month_min,\n",
    "    MAX(t.block_timestamp_month) AS input_month_max,\n",
    "    COUNT(DISTINCT t.block_timestamp_month) AS input_active_months, -- number of active months\n",
    "    COUNT(t.inputs) AS input_count, -- amount of inputs to the address\n",
    "    SUM(inputs.value) AS input_value_sum, -- sum of the value of all inputs to the address\n",
    "    AVG(inputs.value) AS input_value_avg, -- mean value of all inputs to the address\n",
    "    COUNT(DISTINCT(`hash`)) AS input_tx_count, -- amount of input transactions to the address\n",
    "    -- AVG(t.size) AS input_size_avg -- average size of all inputs from the address\n",
    "  FROM `bigquery-public-data.crypto_bitcoin.transactions` AS t, UNNEST(inputs) AS inputs\n",
    "  GROUP BY input_address\n",
    ")\n",
    "\n",
    "(SELECT\n",
    "  TRUE as is_miner,\n",
    "  output_address as address,\n",
    "  output_month_min,\n",
    "  output_month_max,\n",
    "  output_active_months,\n",
    "  output_count,\n",
    "  output_value_sum,\n",
    "  output_value_avg,\n",
    "  output_tx_count,\n",
    "  input_month_min,\n",
    "  input_month_max,\n",
    "  input_active_months,\n",
    "  input_count,\n",
    "  input_value_sum,\n",
    "  input_value_avg,\n",
    "  input_tx_count\n",
    "FROM\n",
    "  outputs, inputs\n",
    "WHERE\n",
    "  outputs.output_address = inputs.input_address\n",
    "  AND outputs.output_address IN (\n",
    "    SELECT\n",
    "      ARRAY_TO_STRING(outputs.addresses,',') as miner\n",
    "    FROM\n",
    "      `bigquery-public-data.crypto_bitcoin.transactions` AS t, UNNEST(outputs) AS outputs,\n",
    "      `bigquery-public-data.crypto_bitcoin.blocks` AS b\n",
    "    WHERE\n",
    "      t.block_hash = b.hash\n",
    "      AND t.is_coinbase IS TRUE\n",
    "      AND (\n",
    "        -- From https://gist.github.com/denpamusic/e90929485be3282ce0aebd4f2fd1f709\n",
    "        b.coinbase_param LIKE '%48616f425443%' -- HaoBTC\n",
    "        OR b.coinbase_param LIKE '%42697466757279%' -- Bitfury\n",
    "        OR b.coinbase_param LIKE '%6d696e65642062792067626d696e657273%' -- mined by gbminers\n",
    "        OR b.coinbase_param LIKE '%566961425443%' -- ViaBTC\n",
    "        OR b.coinbase_param LIKE '%4d696e656420627920416e74506f6f6c%' -- Mined by AntPool\n",
    "        OR b.coinbase_param LIKE '%4d696e65642062792031686173682e636f6d%' -- Mined by 1hash.com\n",
    "        OR b.coinbase_param LIKE '%43414e4f45%' -- 七彩神仙鱼 (i.e. F2Pool)\n",
    "        OR b.coinbase_param LIKE '%426974436c7562204e6574776f726b%' -- BitClub Network\n",
    "        OR b.coinbase_param LIKE '%4254432e434f4d%' -- BTC.com\n",
    "        OR b.coinbase_param LIKE '%4254432e544f50%' -- BTC.TOP \n",
    "        OR b.coinbase_param LIKE '%425720506f6f6c%' -- BW Pool\n",
    "        OR b.coinbase_param LIKE '%42544343%' -- BTCC\n",
    "        OR b.coinbase_param LIKE '%706f6f6c2e626974636f696e2e636f6d%' -- pool.bitcoin.com\n",
    "        OR b.coinbase_param LIKE '%47425342335031%' -- GBSB3P1\n",
    "        OR b.coinbase_param LIKE '%2f4b616e6f%' -- /Kano\n",
    "        OR b.coinbase_param LIKE '%786274632e6578782e636f6d2662772e636f6d%' -- xbtc.exx.com&bw.com\n",
    "        OR b.coinbase_param LIKE '%424154504f4f4c%' -- BATPOOL\n",
    "        OR b.coinbase_param LIKE '%436f6e6e656374425443202d20486f6d6520666f72204d696e657273%' -- ConnectBTC - Home for Miners\n",
    "        OR b.coinbase_param LIKE '%736f6c6f2e636b706f6f6c2e6f7267%' -- solo.ckpool.org\n",
    "        OR b.coinbase_param LIKE '%736c757368%' -- slush\n",
    "        OR b.coinbase_param LIKE '%70686173682e696f%' -- phash.io\n",
    "        OR b.coinbase_param LIKE '%4269744d696e746572%' -- BitMinter\n",
    "        OR b.coinbase_param LIKE '%43414e4f45%' -- CANOE\n",
    "        -- From https://en.bitcoin.it/wiki/Category:Pool_Operators\n",
    "        OR b.coinbase_param LIKE '%2f736c7573682f%' -- /slush/\n",
    "        OR b.coinbase_param LIKE '%4b616e6f%' -- Kano\n",
    "        OR b.coinbase_param LIKE '%2f7374726174756d2f%' -- /stratum/ (i.e. Btcmp)\n",
    "        OR b.coinbase_param LIKE '%456c6967697573%' -- Eligius\n",
    "        OR b.coinbase_param LIKE '%2f627261766f2d6d696e696e672f%' -- /bravo-mining/\n",
    "        OR b.coinbase_param LIKE '%2f6d6d706f6f6c%' -- /mmpool\n",
    "        OR b.coinbase_param LIKE '%%' -- \n",
    "        OR b.coinbase_param LIKE '%%' -- \n",
    "      )\n",
    "      GROUP BY miner\n",
    "      HAVING COUNT(1) >= 20\n",
    "  )\n",
    "LIMIT {}\n",
    ")\n",
    "UNION ALL\n",
    "(SELECT\n",
    "  FALSE as is_miner,\n",
    "  output_address as address,\n",
    "  output_month_min,\n",
    "  output_month_max,\n",
    "  output_active_months,\n",
    "  output_count,\n",
    "  output_value_sum,\n",
    "  output_value_avg,\n",
    "  output_tx_count,\n",
    "  input_month_min,\n",
    "  input_month_max,\n",
    "  input_active_months,\n",
    "  input_count,\n",
    "  input_value_sum,\n",
    "  input_value_avg,\n",
    "  input_tx_count\n",
    "FROM\n",
    "  outputs, inputs\n",
    "WHERE\n",
    "  outputs.output_address = inputs.input_address\n",
    "  AND outputs.output_address NOT IN (\n",
    "    SELECT\n",
    "      ARRAY_TO_STRING(outputs.addresses,',') as miner\n",
    "    FROM\n",
    "      `bigquery-public-data.crypto_bitcoin.transactions` AS t, UNNEST(outputs) AS outputs,\n",
    "      `bigquery-public-data.crypto_bitcoin.blocks` AS b\n",
    "    WHERE\n",
    "      t.block_hash = b.hash\n",
    "      AND t.is_coinbase IS TRUE\n",
    "      AND (\n",
    "        -- From https://gist.github.com/denpamusic/e90929485be3282ce0aebd4f2fd1f709\n",
    "        b.coinbase_param LIKE '%48616f425443%' -- HaoBTC\n",
    "        OR b.coinbase_param LIKE '%42697466757279%' -- Bitfury\n",
    "        OR b.coinbase_param LIKE '%6d696e65642062792067626d696e657273%' -- mined by gbminers\n",
    "        OR b.coinbase_param LIKE '%566961425443%' -- ViaBTC\n",
    "        OR b.coinbase_param LIKE '%4d696e656420627920416e74506f6f6c%' -- Mined by AntPool\n",
    "        OR b.coinbase_param LIKE '%4d696e65642062792031686173682e636f6d%' -- Mined by 1hash.com\n",
    "        OR b.coinbase_param LIKE '%43414e4f45%' -- 七彩神仙鱼 (i.e. F2Pool)\n",
    "        OR b.coinbase_param LIKE '%426974436c7562204e6574776f726b%' -- BitClub Network\n",
    "        OR b.coinbase_param LIKE '%4254432e434f4d%' -- BTC.com\n",
    "        OR b.coinbase_param LIKE '%4254432e544f50%' -- BTC.TOP \n",
    "        OR b.coinbase_param LIKE '%425720506f6f6c%' -- BW Pool\n",
    "        OR b.coinbase_param LIKE '%42544343%' -- BTCC\n",
    "        OR b.coinbase_param LIKE '%706f6f6c2e626974636f696e2e636f6d%' -- pool.bitcoin.com\n",
    "        OR b.coinbase_param LIKE '%47425342335031%' -- GBSB3P1\n",
    "        OR b.coinbase_param LIKE '%2f4b616e6f%' -- /Kano\n",
    "        OR b.coinbase_param LIKE '%786274632e6578782e636f6d2662772e636f6d%' -- xbtc.exx.com&bw.com\n",
    "        OR b.coinbase_param LIKE '%424154504f4f4c%' -- BATPOOL\n",
    "        OR b.coinbase_param LIKE '%436f6e6e656374425443202d20486f6d6520666f72204d696e657273%' -- ConnectBTC - Home for Miners\n",
    "        OR b.coinbase_param LIKE '%736f6c6f2e636b706f6f6c2e6f7267%' -- solo.ckpool.org\n",
    "        OR b.coinbase_param LIKE '%736c757368%' -- slush\n",
    "        OR b.coinbase_param LIKE '%70686173682e696f%' -- phash.io\n",
    "        OR b.coinbase_param LIKE '%4269744d696e746572%' -- BitMinter\n",
    "        OR b.coinbase_param LIKE '%43414e4f45%' -- CANOE\n",
    "        -- From https://en.bitcoin.it/wiki/Category:Pool_Operators\n",
    "        OR b.coinbase_param LIKE '%2f736c7573682f%' -- /slush/\n",
    "        OR b.coinbase_param LIKE '%4b616e6f%' -- Kano\n",
    "        OR b.coinbase_param LIKE '%2f7374726174756d2f%' -- /stratum/ (i.e. Btcmp)\n",
    "        OR b.coinbase_param LIKE '%456c6967697573%' -- Eligius\n",
    "        OR b.coinbase_param LIKE '%2f627261766f2d6d696e696e672f%' -- /bravo-mining/\n",
    "        OR b.coinbase_param LIKE '%2f6d6d706f6f6c%' -- /mmpool\n",
    "        OR b.coinbase_param LIKE '%%' -- \n",
    "        OR b.coinbase_param LIKE '%%' -- \n",
    "      )\n",
    "      GROUP BY miner\n",
    "      HAVING COUNT(1) >= 20\n",
    "  )\n",
    "LIMIT {}\n",
    ")\n",
    "'''.format(miner_addresses, non_miner_addresses)"
   ]
  },
  {
   "cell_type": "markdown",
   "metadata": {},
   "source": [
    "##### Run SQL code through BigQueryHelper to ensure the query does not consume unexpectedly large amounts of data"
   ]
  },
  {
   "cell_type": "code",
   "execution_count": 5,
   "metadata": {},
   "outputs": [],
   "source": [
    "bq_assistant = BigQueryHelper(\"bigquery-public-data\", \"bitcoin_blockchain\")"
   ]
  },
  {
   "cell_type": "code",
   "execution_count": 6,
   "metadata": {
    "scrolled": true
   },
   "outputs": [],
   "source": [
    "df = bq_assistant.query_to_pandas_safe(sql, max_gb_scanned=220)"
   ]
  },
  {
   "cell_type": "markdown",
   "metadata": {},
   "source": [
    "## 4. Clean imported data"
   ]
  },
  {
   "cell_type": "markdown",
   "metadata": {},
   "source": [
    "##### Perform checks on the loaded data"
   ]
  },
  {
   "cell_type": "code",
   "execution_count": 7,
   "metadata": {},
   "outputs": [
    {
     "name": "stdout",
     "output_type": "stream",
     "text": [
      "<class 'pandas.core.frame.DataFrame'>\n",
      "RangeIndex: 30000 entries, 0 to 29999\n",
      "Data columns (total 16 columns):\n",
      "is_miner                30000 non-null bool\n",
      "address                 30000 non-null object\n",
      "output_month_min        30000 non-null object\n",
      "output_month_max        30000 non-null object\n",
      "output_active_months    30000 non-null int64\n",
      "output_count            30000 non-null int64\n",
      "output_value_sum        30000 non-null object\n",
      "output_value_avg        30000 non-null object\n",
      "output_tx_count         30000 non-null int64\n",
      "input_month_min         30000 non-null object\n",
      "input_month_max         30000 non-null object\n",
      "input_active_months     30000 non-null int64\n",
      "input_count             30000 non-null int64\n",
      "input_value_sum         30000 non-null object\n",
      "input_value_avg         30000 non-null object\n",
      "input_tx_count          30000 non-null int64\n",
      "dtypes: bool(1), int64(6), object(9)\n",
      "memory usage: 21.4 MB\n"
     ]
    }
   ],
   "source": [
    "df.info(memory_usage='deep')"
   ]
  },
  {
   "cell_type": "code",
   "execution_count": 8,
   "metadata": {
    "scrolled": true
   },
   "outputs": [
    {
     "data": {
      "text/html": [
       "<div>\n",
       "<style scoped>\n",
       "    .dataframe tbody tr th:only-of-type {\n",
       "        vertical-align: middle;\n",
       "    }\n",
       "\n",
       "    .dataframe tbody tr th {\n",
       "        vertical-align: top;\n",
       "    }\n",
       "\n",
       "    .dataframe thead th {\n",
       "        text-align: right;\n",
       "    }\n",
       "</style>\n",
       "<table border=\"1\" class=\"dataframe\">\n",
       "  <thead>\n",
       "    <tr style=\"text-align: right;\">\n",
       "      <th></th>\n",
       "      <th>is_miner</th>\n",
       "      <th>address</th>\n",
       "      <th>output_month_min</th>\n",
       "      <th>output_month_max</th>\n",
       "      <th>output_active_months</th>\n",
       "      <th>output_count</th>\n",
       "      <th>output_value_sum</th>\n",
       "      <th>output_value_avg</th>\n",
       "      <th>output_tx_count</th>\n",
       "      <th>input_month_min</th>\n",
       "      <th>input_month_max</th>\n",
       "      <th>input_active_months</th>\n",
       "      <th>input_count</th>\n",
       "      <th>input_value_sum</th>\n",
       "      <th>input_value_avg</th>\n",
       "      <th>input_tx_count</th>\n",
       "    </tr>\n",
       "  </thead>\n",
       "  <tbody>\n",
       "    <tr>\n",
       "      <th>0</th>\n",
       "      <td>True</td>\n",
       "      <td>1NJjfJzEujVYgf7bTegnCksc7iHrZas8WY</td>\n",
       "      <td>2012-04-01</td>\n",
       "      <td>2012-11-01</td>\n",
       "      <td>4</td>\n",
       "      <td>30</td>\n",
       "      <td>2265254208</td>\n",
       "      <td>75508473.6</td>\n",
       "      <td>30</td>\n",
       "      <td>2012-04-01</td>\n",
       "      <td>2012-11-01</td>\n",
       "      <td>5</td>\n",
       "      <td>30</td>\n",
       "      <td>2265254208</td>\n",
       "      <td>75508473.6</td>\n",
       "      <td>30</td>\n",
       "    </tr>\n",
       "    <tr>\n",
       "      <th>1</th>\n",
       "      <td>True</td>\n",
       "      <td>1Pw5jQjqDpWoQGj5MQo77pauMo6V8FqytJ</td>\n",
       "      <td>2011-05-01</td>\n",
       "      <td>2012-11-01</td>\n",
       "      <td>15</td>\n",
       "      <td>55</td>\n",
       "      <td>3658558501</td>\n",
       "      <td>66519245.472727273</td>\n",
       "      <td>55</td>\n",
       "      <td>2011-12-01</td>\n",
       "      <td>2012-05-01</td>\n",
       "      <td>3</td>\n",
       "      <td>43</td>\n",
       "      <td>2558688197</td>\n",
       "      <td>59504376.674418605</td>\n",
       "      <td>3</td>\n",
       "    </tr>\n",
       "    <tr>\n",
       "      <th>2</th>\n",
       "      <td>True</td>\n",
       "      <td>12NqjiQS4iQwNEd9L9Dr855XzSB2TWqTV3</td>\n",
       "      <td>2012-06-01</td>\n",
       "      <td>2013-06-01</td>\n",
       "      <td>11</td>\n",
       "      <td>229</td>\n",
       "      <td>2662271759</td>\n",
       "      <td>11625640.868995633</td>\n",
       "      <td>229</td>\n",
       "      <td>2012-08-01</td>\n",
       "      <td>2013-08-01</td>\n",
       "      <td>4</td>\n",
       "      <td>229</td>\n",
       "      <td>2662271759</td>\n",
       "      <td>11625640.868995633</td>\n",
       "      <td>12</td>\n",
       "    </tr>\n",
       "    <tr>\n",
       "      <th>3</th>\n",
       "      <td>True</td>\n",
       "      <td>1Fgnc9iPyafqFij1xcyfgFPm3knGrDVzys</td>\n",
       "      <td>2013-07-01</td>\n",
       "      <td>2013-08-01</td>\n",
       "      <td>2</td>\n",
       "      <td>38</td>\n",
       "      <td>239286025</td>\n",
       "      <td>6297000.657894737</td>\n",
       "      <td>38</td>\n",
       "      <td>2013-07-01</td>\n",
       "      <td>2013-08-01</td>\n",
       "      <td>2</td>\n",
       "      <td>38</td>\n",
       "      <td>239286025</td>\n",
       "      <td>6297000.657894737</td>\n",
       "      <td>5</td>\n",
       "    </tr>\n",
       "    <tr>\n",
       "      <th>4</th>\n",
       "      <td>True</td>\n",
       "      <td>1MAGiNEgreEjhddVqSRau8fdYXtUHHV2uT</td>\n",
       "      <td>2013-01-01</td>\n",
       "      <td>2013-04-01</td>\n",
       "      <td>3</td>\n",
       "      <td>27</td>\n",
       "      <td>194740145</td>\n",
       "      <td>7212597.962962963</td>\n",
       "      <td>27</td>\n",
       "      <td>2013-03-01</td>\n",
       "      <td>2013-06-01</td>\n",
       "      <td>4</td>\n",
       "      <td>27</td>\n",
       "      <td>194740145</td>\n",
       "      <td>7212597.962962963</td>\n",
       "      <td>12</td>\n",
       "    </tr>\n",
       "  </tbody>\n",
       "</table>\n",
       "</div>"
      ],
      "text/plain": [
       "   is_miner                             address output_month_min  \\\n",
       "0      True  1NJjfJzEujVYgf7bTegnCksc7iHrZas8WY       2012-04-01   \n",
       "1      True  1Pw5jQjqDpWoQGj5MQo77pauMo6V8FqytJ       2011-05-01   \n",
       "2      True  12NqjiQS4iQwNEd9L9Dr855XzSB2TWqTV3       2012-06-01   \n",
       "3      True  1Fgnc9iPyafqFij1xcyfgFPm3knGrDVzys       2013-07-01   \n",
       "4      True  1MAGiNEgreEjhddVqSRau8fdYXtUHHV2uT       2013-01-01   \n",
       "\n",
       "  output_month_max  output_active_months  output_count output_value_sum  \\\n",
       "0       2012-11-01                     4            30       2265254208   \n",
       "1       2012-11-01                    15            55       3658558501   \n",
       "2       2013-06-01                    11           229       2662271759   \n",
       "3       2013-08-01                     2            38        239286025   \n",
       "4       2013-04-01                     3            27        194740145   \n",
       "\n",
       "     output_value_avg  output_tx_count input_month_min input_month_max  \\\n",
       "0          75508473.6               30      2012-04-01      2012-11-01   \n",
       "1  66519245.472727273               55      2011-12-01      2012-05-01   \n",
       "2  11625640.868995633              229      2012-08-01      2013-08-01   \n",
       "3   6297000.657894737               38      2013-07-01      2013-08-01   \n",
       "4   7212597.962962963               27      2013-03-01      2013-06-01   \n",
       "\n",
       "   input_active_months  input_count input_value_sum     input_value_avg  \\\n",
       "0                    5           30      2265254208          75508473.6   \n",
       "1                    3           43      2558688197  59504376.674418605   \n",
       "2                    4          229      2662271759  11625640.868995633   \n",
       "3                    2           38       239286025   6297000.657894737   \n",
       "4                    4           27       194740145   7212597.962962963   \n",
       "\n",
       "   input_tx_count  \n",
       "0              30  \n",
       "1               3  \n",
       "2              12  \n",
       "3               5  \n",
       "4              12  "
      ]
     },
     "execution_count": 8,
     "metadata": {},
     "output_type": "execute_result"
    }
   ],
   "source": [
    "df.head(5)"
   ]
  },
  {
   "cell_type": "code",
   "execution_count": 9,
   "metadata": {},
   "outputs": [
    {
     "data": {
      "text/plain": [
       "array([ True, False])"
      ]
     },
     "execution_count": 9,
     "metadata": {},
     "output_type": "execute_result"
    }
   ],
   "source": [
    "df['is_miner'].unique()"
   ]
  },
  {
   "cell_type": "markdown",
   "metadata": {},
   "source": [
    "##### Transform features numeric formats"
   ]
  },
  {
   "cell_type": "code",
   "execution_count": 10,
   "metadata": {},
   "outputs": [
    {
     "name": "stdout",
     "output_type": "stream",
     "text": [
      "<class 'pandas.core.frame.DataFrame'>\n",
      "RangeIndex: 30000 entries, 0 to 29999\n",
      "Data columns (total 16 columns):\n",
      "is_miner                30000 non-null bool\n",
      "address                 30000 non-null object\n",
      "output_month_min        30000 non-null int64\n",
      "output_month_max        30000 non-null int64\n",
      "output_active_months    30000 non-null int64\n",
      "output_count            30000 non-null int64\n",
      "output_value_sum        30000 non-null float64\n",
      "output_value_avg        30000 non-null float64\n",
      "output_tx_count         30000 non-null int64\n",
      "input_month_min         30000 non-null int64\n",
      "input_month_max         30000 non-null int64\n",
      "input_active_months     30000 non-null int64\n",
      "input_count             30000 non-null int64\n",
      "input_value_sum         30000 non-null float64\n",
      "input_value_avg         30000 non-null float64\n",
      "input_tx_count          30000 non-null int64\n",
      "dtypes: bool(1), float64(4), int64(10), object(1)\n",
      "memory usage: 5.9 MB\n"
     ]
    }
   ],
   "source": [
    "# Convert to numeric values\n",
    "labels_value = ['output_value_sum', 'output_value_avg', 'input_value_sum', 'input_value_avg']\n",
    "df[labels_value] = df[labels_value].apply(pd.to_numeric)\n",
    "\n",
    "# Convert to UNIX epoch timestamp (seconds) to have an integer value\n",
    "labels_timestamp = ['output_month_min', 'output_month_max', 'input_month_min', 'input_month_max']\n",
    "df[labels_timestamp] = (df[labels_timestamp].apply(pd.to_datetime)\n",
    "                           - pd.Timestamp(\"1970-01-01\")) // pd.Timedelta('1s')\n",
    "\n",
    "# Create list with remaining features (needed later for preprocessing step)\n",
    "labels_rest = df.drop(labels_value, axis=1).drop(labels_timestamp, axis=1).drop(['is_miner', 'address'], axis=1).columns.tolist()\n",
    "\n",
    "df.info(memory_usage='deep')"
   ]
  },
  {
   "cell_type": "code",
   "execution_count": 11,
   "metadata": {},
   "outputs": [
    {
     "data": {
      "text/html": [
       "<div>\n",
       "<style scoped>\n",
       "    .dataframe tbody tr th:only-of-type {\n",
       "        vertical-align: middle;\n",
       "    }\n",
       "\n",
       "    .dataframe tbody tr th {\n",
       "        vertical-align: top;\n",
       "    }\n",
       "\n",
       "    .dataframe thead th {\n",
       "        text-align: right;\n",
       "    }\n",
       "</style>\n",
       "<table border=\"1\" class=\"dataframe\">\n",
       "  <thead>\n",
       "    <tr style=\"text-align: right;\">\n",
       "      <th></th>\n",
       "      <th>is_miner</th>\n",
       "      <th>address</th>\n",
       "      <th>output_month_min</th>\n",
       "      <th>output_month_max</th>\n",
       "      <th>output_active_months</th>\n",
       "      <th>output_count</th>\n",
       "      <th>output_value_sum</th>\n",
       "      <th>output_value_avg</th>\n",
       "      <th>output_tx_count</th>\n",
       "      <th>input_month_min</th>\n",
       "      <th>input_month_max</th>\n",
       "      <th>input_active_months</th>\n",
       "      <th>input_count</th>\n",
       "      <th>input_value_sum</th>\n",
       "      <th>input_value_avg</th>\n",
       "      <th>input_tx_count</th>\n",
       "    </tr>\n",
       "  </thead>\n",
       "  <tbody>\n",
       "    <tr>\n",
       "      <th>0</th>\n",
       "      <td>True</td>\n",
       "      <td>1NJjfJzEujVYgf7bTegnCksc7iHrZas8WY</td>\n",
       "      <td>1333238400</td>\n",
       "      <td>1351728000</td>\n",
       "      <td>4</td>\n",
       "      <td>30</td>\n",
       "      <td>2.265254e+09</td>\n",
       "      <td>7.550847e+07</td>\n",
       "      <td>30</td>\n",
       "      <td>1333238400</td>\n",
       "      <td>1351728000</td>\n",
       "      <td>5</td>\n",
       "      <td>30</td>\n",
       "      <td>2.265254e+09</td>\n",
       "      <td>7.550847e+07</td>\n",
       "      <td>30</td>\n",
       "    </tr>\n",
       "    <tr>\n",
       "      <th>1</th>\n",
       "      <td>True</td>\n",
       "      <td>1Pw5jQjqDpWoQGj5MQo77pauMo6V8FqytJ</td>\n",
       "      <td>1304208000</td>\n",
       "      <td>1351728000</td>\n",
       "      <td>15</td>\n",
       "      <td>55</td>\n",
       "      <td>3.658559e+09</td>\n",
       "      <td>6.651925e+07</td>\n",
       "      <td>55</td>\n",
       "      <td>1322697600</td>\n",
       "      <td>1335830400</td>\n",
       "      <td>3</td>\n",
       "      <td>43</td>\n",
       "      <td>2.558688e+09</td>\n",
       "      <td>5.950438e+07</td>\n",
       "      <td>3</td>\n",
       "    </tr>\n",
       "    <tr>\n",
       "      <th>2</th>\n",
       "      <td>True</td>\n",
       "      <td>12NqjiQS4iQwNEd9L9Dr855XzSB2TWqTV3</td>\n",
       "      <td>1338508800</td>\n",
       "      <td>1370044800</td>\n",
       "      <td>11</td>\n",
       "      <td>229</td>\n",
       "      <td>2.662272e+09</td>\n",
       "      <td>1.162564e+07</td>\n",
       "      <td>229</td>\n",
       "      <td>1343779200</td>\n",
       "      <td>1375315200</td>\n",
       "      <td>4</td>\n",
       "      <td>229</td>\n",
       "      <td>2.662272e+09</td>\n",
       "      <td>1.162564e+07</td>\n",
       "      <td>12</td>\n",
       "    </tr>\n",
       "    <tr>\n",
       "      <th>3</th>\n",
       "      <td>True</td>\n",
       "      <td>1Fgnc9iPyafqFij1xcyfgFPm3knGrDVzys</td>\n",
       "      <td>1372636800</td>\n",
       "      <td>1375315200</td>\n",
       "      <td>2</td>\n",
       "      <td>38</td>\n",
       "      <td>2.392860e+08</td>\n",
       "      <td>6.297001e+06</td>\n",
       "      <td>38</td>\n",
       "      <td>1372636800</td>\n",
       "      <td>1375315200</td>\n",
       "      <td>2</td>\n",
       "      <td>38</td>\n",
       "      <td>2.392860e+08</td>\n",
       "      <td>6.297001e+06</td>\n",
       "      <td>5</td>\n",
       "    </tr>\n",
       "    <tr>\n",
       "      <th>4</th>\n",
       "      <td>True</td>\n",
       "      <td>1MAGiNEgreEjhddVqSRau8fdYXtUHHV2uT</td>\n",
       "      <td>1356998400</td>\n",
       "      <td>1364774400</td>\n",
       "      <td>3</td>\n",
       "      <td>27</td>\n",
       "      <td>1.947401e+08</td>\n",
       "      <td>7.212598e+06</td>\n",
       "      <td>27</td>\n",
       "      <td>1362096000</td>\n",
       "      <td>1370044800</td>\n",
       "      <td>4</td>\n",
       "      <td>27</td>\n",
       "      <td>1.947401e+08</td>\n",
       "      <td>7.212598e+06</td>\n",
       "      <td>12</td>\n",
       "    </tr>\n",
       "  </tbody>\n",
       "</table>\n",
       "</div>"
      ],
      "text/plain": [
       "   is_miner                             address  output_month_min  \\\n",
       "0      True  1NJjfJzEujVYgf7bTegnCksc7iHrZas8WY        1333238400   \n",
       "1      True  1Pw5jQjqDpWoQGj5MQo77pauMo6V8FqytJ        1304208000   \n",
       "2      True  12NqjiQS4iQwNEd9L9Dr855XzSB2TWqTV3        1338508800   \n",
       "3      True  1Fgnc9iPyafqFij1xcyfgFPm3knGrDVzys        1372636800   \n",
       "4      True  1MAGiNEgreEjhddVqSRau8fdYXtUHHV2uT        1356998400   \n",
       "\n",
       "   output_month_max  output_active_months  output_count  output_value_sum  \\\n",
       "0        1351728000                     4            30      2.265254e+09   \n",
       "1        1351728000                    15            55      3.658559e+09   \n",
       "2        1370044800                    11           229      2.662272e+09   \n",
       "3        1375315200                     2            38      2.392860e+08   \n",
       "4        1364774400                     3            27      1.947401e+08   \n",
       "\n",
       "   output_value_avg  output_tx_count  input_month_min  input_month_max  \\\n",
       "0      7.550847e+07               30       1333238400       1351728000   \n",
       "1      6.651925e+07               55       1322697600       1335830400   \n",
       "2      1.162564e+07              229       1343779200       1375315200   \n",
       "3      6.297001e+06               38       1372636800       1375315200   \n",
       "4      7.212598e+06               27       1362096000       1370044800   \n",
       "\n",
       "   input_active_months  input_count  input_value_sum  input_value_avg  \\\n",
       "0                    5           30     2.265254e+09     7.550847e+07   \n",
       "1                    3           43     2.558688e+09     5.950438e+07   \n",
       "2                    4          229     2.662272e+09     1.162564e+07   \n",
       "3                    2           38     2.392860e+08     6.297001e+06   \n",
       "4                    4           27     1.947401e+08     7.212598e+06   \n",
       "\n",
       "   input_tx_count  \n",
       "0              30  \n",
       "1               3  \n",
       "2              12  \n",
       "3               5  \n",
       "4              12  "
      ]
     },
     "execution_count": 11,
     "metadata": {},
     "output_type": "execute_result"
    }
   ],
   "source": [
    "df.head()"
   ]
  },
  {
   "cell_type": "markdown",
   "metadata": {},
   "source": [
    "## 5. Split train and test data"
   ]
  },
  {
   "cell_type": "code",
   "execution_count": 12,
   "metadata": {},
   "outputs": [],
   "source": [
    "features = df.drop(['address', 'is_miner'], axis=1)\n",
    "target = df['is_miner']"
   ]
  },
  {
   "cell_type": "code",
   "execution_count": 14,
   "metadata": {},
   "outputs": [
    {
     "data": {
      "text/html": [
       "<div>\n",
       "<style scoped>\n",
       "    .dataframe tbody tr th:only-of-type {\n",
       "        vertical-align: middle;\n",
       "    }\n",
       "\n",
       "    .dataframe tbody tr th {\n",
       "        vertical-align: top;\n",
       "    }\n",
       "\n",
       "    .dataframe thead th {\n",
       "        text-align: right;\n",
       "    }\n",
       "</style>\n",
       "<table border=\"1\" class=\"dataframe\">\n",
       "  <thead>\n",
       "    <tr style=\"text-align: right;\">\n",
       "      <th></th>\n",
       "      <th>output_month_min</th>\n",
       "      <th>output_month_max</th>\n",
       "      <th>output_active_months</th>\n",
       "      <th>output_count</th>\n",
       "      <th>output_value_sum</th>\n",
       "      <th>output_value_avg</th>\n",
       "      <th>output_tx_count</th>\n",
       "      <th>input_month_min</th>\n",
       "      <th>input_month_max</th>\n",
       "      <th>input_active_months</th>\n",
       "      <th>input_count</th>\n",
       "      <th>input_value_sum</th>\n",
       "      <th>input_value_avg</th>\n",
       "      <th>input_tx_count</th>\n",
       "    </tr>\n",
       "  </thead>\n",
       "  <tbody>\n",
       "    <tr>\n",
       "      <th>0</th>\n",
       "      <td>1333238400</td>\n",
       "      <td>1351728000</td>\n",
       "      <td>4</td>\n",
       "      <td>30</td>\n",
       "      <td>2.265254e+09</td>\n",
       "      <td>7.550847e+07</td>\n",
       "      <td>30</td>\n",
       "      <td>1333238400</td>\n",
       "      <td>1351728000</td>\n",
       "      <td>5</td>\n",
       "      <td>30</td>\n",
       "      <td>2.265254e+09</td>\n",
       "      <td>7.550847e+07</td>\n",
       "      <td>30</td>\n",
       "    </tr>\n",
       "    <tr>\n",
       "      <th>1</th>\n",
       "      <td>1304208000</td>\n",
       "      <td>1351728000</td>\n",
       "      <td>15</td>\n",
       "      <td>55</td>\n",
       "      <td>3.658559e+09</td>\n",
       "      <td>6.651925e+07</td>\n",
       "      <td>55</td>\n",
       "      <td>1322697600</td>\n",
       "      <td>1335830400</td>\n",
       "      <td>3</td>\n",
       "      <td>43</td>\n",
       "      <td>2.558688e+09</td>\n",
       "      <td>5.950438e+07</td>\n",
       "      <td>3</td>\n",
       "    </tr>\n",
       "    <tr>\n",
       "      <th>2</th>\n",
       "      <td>1338508800</td>\n",
       "      <td>1370044800</td>\n",
       "      <td>11</td>\n",
       "      <td>229</td>\n",
       "      <td>2.662272e+09</td>\n",
       "      <td>1.162564e+07</td>\n",
       "      <td>229</td>\n",
       "      <td>1343779200</td>\n",
       "      <td>1375315200</td>\n",
       "      <td>4</td>\n",
       "      <td>229</td>\n",
       "      <td>2.662272e+09</td>\n",
       "      <td>1.162564e+07</td>\n",
       "      <td>12</td>\n",
       "    </tr>\n",
       "    <tr>\n",
       "      <th>3</th>\n",
       "      <td>1372636800</td>\n",
       "      <td>1375315200</td>\n",
       "      <td>2</td>\n",
       "      <td>38</td>\n",
       "      <td>2.392860e+08</td>\n",
       "      <td>6.297001e+06</td>\n",
       "      <td>38</td>\n",
       "      <td>1372636800</td>\n",
       "      <td>1375315200</td>\n",
       "      <td>2</td>\n",
       "      <td>38</td>\n",
       "      <td>2.392860e+08</td>\n",
       "      <td>6.297001e+06</td>\n",
       "      <td>5</td>\n",
       "    </tr>\n",
       "    <tr>\n",
       "      <th>4</th>\n",
       "      <td>1356998400</td>\n",
       "      <td>1364774400</td>\n",
       "      <td>3</td>\n",
       "      <td>27</td>\n",
       "      <td>1.947401e+08</td>\n",
       "      <td>7.212598e+06</td>\n",
       "      <td>27</td>\n",
       "      <td>1362096000</td>\n",
       "      <td>1370044800</td>\n",
       "      <td>4</td>\n",
       "      <td>27</td>\n",
       "      <td>1.947401e+08</td>\n",
       "      <td>7.212598e+06</td>\n",
       "      <td>12</td>\n",
       "    </tr>\n",
       "  </tbody>\n",
       "</table>\n",
       "</div>"
      ],
      "text/plain": [
       "   output_month_min  output_month_max  output_active_months  output_count  \\\n",
       "0        1333238400        1351728000                     4            30   \n",
       "1        1304208000        1351728000                    15            55   \n",
       "2        1338508800        1370044800                    11           229   \n",
       "3        1372636800        1375315200                     2            38   \n",
       "4        1356998400        1364774400                     3            27   \n",
       "\n",
       "   output_value_sum  output_value_avg  output_tx_count  input_month_min  \\\n",
       "0      2.265254e+09      7.550847e+07               30       1333238400   \n",
       "1      3.658559e+09      6.651925e+07               55       1322697600   \n",
       "2      2.662272e+09      1.162564e+07              229       1343779200   \n",
       "3      2.392860e+08      6.297001e+06               38       1372636800   \n",
       "4      1.947401e+08      7.212598e+06               27       1362096000   \n",
       "\n",
       "   input_month_max  input_active_months  input_count  input_value_sum  \\\n",
       "0       1351728000                    5           30     2.265254e+09   \n",
       "1       1335830400                    3           43     2.558688e+09   \n",
       "2       1375315200                    4          229     2.662272e+09   \n",
       "3       1375315200                    2           38     2.392860e+08   \n",
       "4       1370044800                    4           27     1.947401e+08   \n",
       "\n",
       "   input_value_avg  input_tx_count  \n",
       "0     7.550847e+07              30  \n",
       "1     5.950438e+07               3  \n",
       "2     1.162564e+07              12  \n",
       "3     6.297001e+06               5  \n",
       "4     7.212598e+06              12  "
      ]
     },
     "execution_count": 14,
     "metadata": {},
     "output_type": "execute_result"
    }
   ],
   "source": [
    "features.head()"
   ]
  },
  {
   "cell_type": "code",
   "execution_count": 15,
   "metadata": {},
   "outputs": [
    {
     "data": {
      "text/plain": [
       "0    True\n",
       "1    True\n",
       "2    True\n",
       "3    True\n",
       "4    True\n",
       "Name: is_miner, dtype: bool"
      ]
     },
     "execution_count": 15,
     "metadata": {},
     "output_type": "execute_result"
    }
   ],
   "source": [
    "target.head()"
   ]
  },
  {
   "cell_type": "code",
   "execution_count": 16,
   "metadata": {},
   "outputs": [
    {
     "data": {
      "text/plain": [
       "((30000, 14), (30000,))"
      ]
     },
     "execution_count": 16,
     "metadata": {},
     "output_type": "execute_result"
    }
   ],
   "source": [
    "features.shape, target.shape"
   ]
  },
  {
   "cell_type": "code",
   "execution_count": 17,
   "metadata": {},
   "outputs": [
    {
     "data": {
      "text/plain": [
       "((22500, 14), (7500, 14), (22500,), (7500,))"
      ]
     },
     "execution_count": 17,
     "metadata": {},
     "output_type": "execute_result"
    }
   ],
   "source": [
    "X_train, X_test, y_train, y_test = train_test_split(features, target)\n",
    "X_train.shape, X_test.shape, y_train.shape, y_test.shape"
   ]
  },
  {
   "cell_type": "markdown",
   "metadata": {},
   "source": [
    "## 6. Check correlation of features"
   ]
  },
  {
   "cell_type": "code",
   "execution_count": 18,
   "metadata": {},
   "outputs": [
    {
     "data": {
      "image/png": "[encoded data removed]",
      "text/plain": [
       "<Figure size 576x432 with 2 Axes>"
      ]
     },
     "metadata": {
      "needs_background": "light"
     },
     "output_type": "display_data"
    }
   ],
   "source": [
    "corr = features.corr(method='pearson')\n",
    "\n",
    "# Plot correlation\n",
    "plt.figure(figsize=(8,6))\n",
    "ax = sns.heatmap(corr, cmap='Blues', linewidth=0.8)\n",
    "ax.set_title('Correlation matrix of features', fontsize='large')\n",
    "ax.set_yticklabels(ax.get_yticklabels(), rotation=0, fontsize='x-small');\n",
    "ax.set_xticklabels(ax.get_xticklabels(), rotation=45, fontsize='x-small');"
   ]
  },
  {
   "cell_type": "markdown",
   "metadata": {},
   "source": [
    "## 7. Train models"
   ]
  },
  {
   "cell_type": "markdown",
   "metadata": {},
   "source": [
    "##### Feature preprocessing and parameter tuning. Two ensemble models (Random Forest and Gradient-Boosted Decision Tree) chosen for this classification task."
   ]
  },
  {
   "cell_type": "code",
   "execution_count": 19,
   "metadata": {
    "scrolled": false
   },
   "outputs": [],
   "source": [
    "# Set up preprocessors\n",
    "preprocessor = ColumnTransformer(\n",
    "    transformers=[\n",
    "        ('standard', StandardScaler(), labels_value),\n",
    "        ('minmax_timestamp', MinMaxScaler(), labels_timestamp),\n",
    "        ('minmax_rest', MinMaxScaler(), labels_rest)\n",
    "    ]\n",
    ")\n",
    "\n",
    "# Set up pipeline for each model\n",
    "pipe_rf = Pipeline(steps=[('scl', preprocessor),\n",
    "                        ('clf', RandomForestClassifier())])\n",
    "pipe_gbdt = Pipeline(steps=[('scl', preprocessor),\n",
    "                        ('clf', GradientBoostingClassifier())])\n",
    "\n",
    "# Define parameters for Random Forest grid search:\n",
    "# n_estimators: number of trees in ensemble\n",
    "# max_depth: depth of each tree\n",
    "# max_features: diversity of the trees in the forest\n",
    "param_grid_rf = {\n",
    "    'clf__n_estimators': [10, 50, 200],\n",
    "    'clf__max_depth': [5, 10, 25],\n",
    "    'clf__max_features': ['sqrt', 'log2', None]\n",
    "}\n",
    "\n",
    "# Define parameters for Gradient-Boosted Decision Tree grid search:\n",
    "# learning_rate: complexity of each tree\n",
    "# n_estimators: number of weak learners to use\n",
    "# max_depth: size of each tree\n",
    "param_grid_gbdt = {\n",
    "    'clf__learning_rate': [0.1, 0.5],\n",
    "    'clf__n_estimators': [10, 100, 1000],\n",
    "    'clf__max_depth': [5, 10, 25]\n",
    "}\n",
    "\n",
    "# Set up grid search for each pipeline\n",
    "gs_rf = GridSearchCV(pipe_rf, param_grid_rf, n_jobs= 1)\n",
    "gs_gbdt = GridSearchCV(pipe_gbdt, param_grid_gbdt, n_jobs= 1)\n",
    "\n",
    "# Store the grid searches in a list\n",
    "grids = [gs_rf, gs_gbdt]"
   ]
  },
  {
   "cell_type": "markdown",
   "metadata": {},
   "source": [
    "## 8. Visualize results"
   ]
  },
  {
   "cell_type": "markdown",
   "metadata": {},
   "source": [
    "##### Define functions for plotting of results"
   ]
  },
  {
   "cell_type": "code",
   "execution_count": 20,
   "metadata": {},
   "outputs": [],
   "source": [
    "def plot_roc(ax, fpr, tpr, auc_score):\n",
    "    \"\"\"\n",
    "    Plot the ROC curve.\n",
    "    \n",
    "    Input:\n",
    "        Axes object and calculated ROC prediction metrics \n",
    "    \n",
    "    Attributes:\n",
    "        ax : axes\n",
    "            An axes object to plot on\n",
    "        fpr : array\n",
    "            False positive rates\n",
    "        tpr : array\n",
    "            True positive rates\n",
    "        auc_score : float\n",
    "            The ROC AUC score\n",
    "    \n",
    "    Output:\n",
    "        None\n",
    "    \"\"\"\n",
    "    ax.plot(fpr, tpr, label='ROC Curve (AUC = {:0.3f})'.format(auc_score), color='navy')\n",
    "    ax.set_title('ROC', fontsize='x-large')\n",
    "    ax.set_xlabel('False Positive Rate (FPR)', fontsize='medium')\n",
    "    ax.set_ylabel('True Positive Rate (TPR)', fontsize='medium')\n",
    "    ax.tick_params(axis='both', labelsize='medium')\n",
    "    ax.legend(loc='lower right', fontsize='medium')\n",
    "    ax.fill_between(fpr, tpr, alpha=0.2, color='b')\n",
    "    ax.set_xlim(0, 1)\n",
    "    ax.set_ylim(0, 1)"
   ]
  },
  {
   "cell_type": "code",
   "execution_count": 21,
   "metadata": {},
   "outputs": [],
   "source": [
    "def plot_prec_recall(ax, precision, recall):\n",
    "    \"\"\"\n",
    "    Plot the precision-recall curve.\n",
    "    \n",
    "    Input:\n",
    "        Axes object and precision-recall pairs for the different probability thresholds\n",
    "    \n",
    "    Attributes:\n",
    "        ax : axes\n",
    "            An axes object to plot on\n",
    "        precision : array\n",
    "            Precision values calculated as: tp / (tp + fp)\n",
    "        recall : array\n",
    "            Recall values calculated as: tp / (tp + fn)\n",
    "    \n",
    "    Output:\n",
    "        None\n",
    "    \"\"\"\n",
    "    ax.plot(recall, precision, label='Precision-Recall Curve', color='navy')\n",
    "    ax.set_title('Precision-Recall', fontsize='x-large')\n",
    "    ax.set_xlabel('Precision', fontsize='medium')\n",
    "    ax.set_ylabel('Recall', fontsize='medium')\n",
    "    ax.tick_params(axis='both', labelsize='medium')\n",
    "    ax.legend(loc='lower right', fontsize='medium')\n",
    "    ax.fill_between(recall, precision, alpha=0.2, color='b')\n",
    "    ax.set_xlim(0, 1)\n",
    "    ax.set_ylim(0, 1)"
   ]
  },
  {
   "cell_type": "code",
   "execution_count": 22,
   "metadata": {},
   "outputs": [],
   "source": [
    "def plot_cm(ax, gs, X_test, y_test):\n",
    "    \"\"\"\n",
    "    Plot the confusion matrix.\n",
    "    \n",
    "    Input:\n",
    "        Axes object, classifier instance (in this case the grid search)\n",
    "        and features & target values from the test (validation) set\n",
    "    \n",
    "    Attributes:\n",
    "        ax : axes\n",
    "            An axes object to plot on\n",
    "        gs : classifier instance\n",
    "            Fitted classifier\n",
    "        X_test : array\n",
    "            Feature values from test set\n",
    "        y_test : array\n",
    "            Target values from test set\n",
    "    \n",
    "    Output:\n",
    "        None\n",
    "    \"\"\"\n",
    "    class_labels = ['not miner', 'miner']\n",
    "    plot_confusion_matrix(gs, X_test, y_test,\n",
    "                              display_labels = class_labels,\n",
    "                              values_format = '.5g',\n",
    "                              cmap='Blues',\n",
    "                              ax=ax)\n",
    "    ax.set_title('Confusion matrix', fontsize='x-large')"
   ]
  },
  {
   "cell_type": "code",
   "execution_count": 23,
   "metadata": {},
   "outputs": [],
   "source": [
    "def plot_feature_importances(ax, gs):\n",
    "    \"\"\"\n",
    "    Plot feature importances.\n",
    "    \n",
    "    Input:\n",
    "        Axes object and classifier instance (in this case the grid search)\n",
    "    \n",
    "    Attributes:\n",
    "        ax : axes\n",
    "            An axes object to plot on\n",
    "        gs : classifier instance\n",
    "            Fitted classifier\n",
    "\n",
    "    Output:\n",
    "        None\n",
    "    \"\"\"\n",
    "    feature_importances = gs.best_estimator_.named_steps['clf'].feature_importances_\n",
    "    indices = np.argsort(feature_importances)[::-1]\n",
    "    feature_importances = feature_importances[indices]\n",
    "    cols = features.columns[indices]\n",
    "    n_features = len(features.columns)\n",
    "    x_pos = np.arange(n_features)\n",
    "    x_pos = x_pos[:n_features][::-1]\n",
    "    feature_importances = feature_importances[:n_features]    \n",
    "    ax.barh(x_pos, feature_importances, tick_label=cols)\n",
    "    ax.set_xlabel('Feature importance', fontsize='medium')\n",
    "    ax.set_title('Feature importances', fontsize='x-large')"
   ]
  },
  {
   "cell_type": "markdown",
   "metadata": {},
   "source": [
    "##### Run and evaluate models"
   ]
  },
  {
   "cell_type": "code",
   "execution_count": 24,
   "metadata": {},
   "outputs": [
    {
     "data": {
      "image/png": "[encoded data removed]",
      "text/plain": [
       "<Figure size 1152x864 with 5 Axes>"
      ]
     },
     "metadata": {
      "needs_background": "light"
     },
     "output_type": "display_data"
    },
    {
     "name": "stdout",
     "output_type": "stream",
     "text": [
      "Best params: {'clf__max_depth': 25, 'clf__max_features': 'log2', 'clf__n_estimators': 200}\n",
      "Best training accuracy: 0.997\n",
      "AUC score: 0.999\n"
     ]
    },
    {
     "data": {
      "image/png": "[encoded data removed]",
      "text/plain": [
       "<Figure size 1152x864 with 5 Axes>"
      ]
     },
     "metadata": {
      "needs_background": "light"
     },
     "output_type": "display_data"
    },
    {
     "name": "stdout",
     "output_type": "stream",
     "text": [
      "Best params: {'clf__learning_rate': 0.1, 'clf__max_depth': 5, 'clf__n_estimators': 1000}\n",
      "Best training accuracy: 0.997\n",
      "AUC score: 0.999\n"
     ]
    }
   ],
   "source": [
    "for i, gs in enumerate(grids):\n",
    "    # Fit models\n",
    "    gs.fit(X_train, y_train)\n",
    "    y_prob = gs.predict_proba(X_test)[:,1] # predicted probabilities in interval [0,1]\n",
    "    y_pred = gs.predict(X_test) # predicted actual values\n",
    "    \n",
    "    # Calculate scores\n",
    "    auc_score = roc_auc_score(y_test, y_prob)\n",
    "    fpr, tpr, _ = roc_curve(y_test, y_prob)\n",
    "    precision, recall, thresholds = precision_recall_curve(y_test, y_prob)\n",
    "    \n",
    "    # Call plot functions\n",
    "    fig, axes = plt.subplots(2, 2, figsize=(16,12))\n",
    "    plt.suptitle('Model {}: ROC, Precision-Recall, Confusion matrix & Feature importance'.format(i+1),\n",
    "                 fontsize='xx-large')\n",
    "    plt.subplots_adjust(wspace=0.4, hspace=0.2)\n",
    "    \n",
    "    plot_roc(axes[0, 0], fpr, tpr, auc_score) # ROC Curve\n",
    "    plot_prec_recall(axes[0, 1], precision, recall) # Precision-Recall Curve\n",
    "    plot_cm(axes[1, 0], gs, X_test, y_test) # Confusion Matrix\n",
    "    plot_feature_importances(axes[1, 1], gs) # Feature Importances\n",
    "    \n",
    "    plt.show()\n",
    "        \n",
    "    # Print outputs\n",
    "    print('Best params: %s' % gs.best_params_)\n",
    "    print('Best training accuracy: %.3f' % gs.best_score_)\n",
    "    print('AUC score: %.3f' % auc_score)"
   ]
  }
 ],
 "metadata": {
  "kernelspec": {
   "display_name": "Python 3",
   "language": "python",
   "name": "python3"
  },
  "language_info": {
   "codemirror_mode": {
    "name": "ipython",
    "version": 3
   },
   "file_extension": ".py",
   "mimetype": "text/x-python",
   "name": "python",
   "nbconvert_exporter": "python",
   "pygments_lexer": "ipython3",
   "version": "3.7.6"
  }
 },
 "nbformat": 4,
 "nbformat_minor": 4
}
